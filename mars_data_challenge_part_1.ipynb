{
 "cells": [
  {
   "cell_type": "code",
   "execution_count": 70,
   "id": "f7290ab9",
   "metadata": {},
   "outputs": [],
   "source": [
    "from splinter import Browser\n",
    "from bs4 import BeautifulSoup as soup\n",
    "from webdriver_manager.chrome import ChromeDriverManager\n",
    "\n",
    "# Set up Splinter\n",
    "executable_path = {'executable_path': ChromeDriverManager().install()}\n",
    "browser = Browser('chrome', **executable_path, headless=False)\n",
    "\n",
    "# Visit the Mars redplanetscience site\n",
    "url = 'https://redplanetscience.com/'\n",
    "browser.visit(url)\n",
    "\n",
    "html = browser.html\n",
    "html_soup = soup(html, 'html.parser')"
   ]
  },
  {
   "cell_type": "code",
   "execution_count": 71,
   "id": "ebed0bf0",
   "metadata": {},
   "outputs": [
    {
     "data": {
      "text/plain": [
       "[{'title': \"Follow NASA's Perseverance Rover in Real Time on Its Way to Mars\"},\n",
       " {'title': \"NASA's Mars 2020 Heads Into the Test Chamber\"},\n",
       " {'title': \"Alabama High School Student Names NASA's Mars Helicopter\"},\n",
       " {'title': 'Join NASA for the Launch of the Mars 2020 Perseverance Rover'},\n",
       " {'title': \"From JPL's Mailroom to Mars and Beyond\"},\n",
       " {'title': '7 Things to Know About the Mars 2020 Perseverance Rover Mission'},\n",
       " {'title': 'New Selfie Shows Curiosity, the Mars Chemist'},\n",
       " {'title': \"Virginia Middle School Student Earns Honor of Naming NASA's Next Mars Rover\"},\n",
       " {'title': \"NASA's Perseverance Rover Is Midway to Mars \"},\n",
       " {'title': \"NASA's Perseverance Rover Goes Through Trials by Fire, Ice, Light and Sound\"},\n",
       " {'title': \"NASA's Mars Perseverance Rover Passes Flight Readiness Review\"},\n",
       " {'title': \"NASA Wins 4 Webbys, 4 People's Voice Awards\"},\n",
       " {'title': 'Heat and Dust Help Launch Martian Water Into Space, Scientists Find'},\n",
       " {'title': \"5 Hidden Gems Are Riding Aboard NASA's Perseverance Rover\"},\n",
       " {'title': \"While Stargazing on Mars, NASA's Curiosity Rover Spots Earth and Venus\"}]"
      ]
     },
     "execution_count": 71,
     "metadata": {},
     "output_type": "execute_result"
    }
   ],
   "source": [
    "# Scrape all titles on the page\n",
    "html = browser.html\n",
    "mars_soup = soup(html, 'html.parser')\n",
    "\n",
    "\n",
    "mars_title = mars_soup.find_all('div', class_='content_title')\n",
    "\n",
    "mars_title_list=[]\n",
    "for title in mars_title:\n",
    "    mars_title_dict={}\n",
    "    mars_title_dict[\"title\"]=title.text\n",
    "    mars_title_list.append(mars_title_dict)\n",
    "    \n",
    "mars_title_list\n"
   ]
  },
  {
   "cell_type": "code",
   "execution_count": 72,
   "id": "435097af",
   "metadata": {},
   "outputs": [
    {
     "data": {
      "text/plain": [
       "[{'Summary': \"A crisply rendered web application can show you where the agency's Mars 2020 mission is right now as it makes its way to the Red Planet for a Feb. 18, 2021, landing.\"},\n",
       " {'Summary': 'In this time-lapse video taken at JPL, engineers move the Mars 2020 rover into a large vacuum chamber for testing in Mars-like environmental conditions.'},\n",
       " {'Summary': \"Vaneeza Rupani's essay was chosen as the name for the small spacecraft, which will mark NASA's first attempt at powered flight on another planet.\"},\n",
       " {'Summary': 'No matter where you live, choose from a menu of activities to join NASA as we \"Countdown to Mars\" and launch the Perseverance rover to the Red Planet.'},\n",
       " {'Summary': 'Bill Allen has thrived as the mechanical systems design lead for three Mars rover missions, but he got his start as a teenager sorting letters for the NASA center.'},\n",
       " {'Summary': \"NASA's next rover to the Red Planet is slated to launch no earlier than July 30. These highlights will get you up to speed on the ambitious mission.\"},\n",
       " {'Summary': 'The NASA rover performed a special chemistry experiment at the location captured in its newest self-portrait.'},\n",
       " {'Summary': 'NASA chose a seventh-grader from Virginia as winner of the agency\\'s \"Name the Rover\" essay contest. Alexander Mather\\'s entry for \"Perseverance\" was voted tops among 28,000 entries. '},\n",
       " {'Summary': \"Sometimes half measures can be a good thing – especially on a journey this long. The agency's latest rover only has about 146 million miles left to reach its destination.\"},\n",
       " {'Summary': \"The agency's new Mars rover is put through a series of tests in vacuum chambers, acoustic chambers and more to get ready for the Red Planet.\"},\n",
       " {'Summary': \"\\u200bThe agency's Mars 2020 mission has one more big prelaunch review – the Launch Readiness Review, on July 27.\"},\n",
       " {'Summary': 'Winners include the JPL-managed \"Send Your Name to Mars\" campaign, NASA\\'s Global Climate Change website and Solar System Interactive.'},\n",
       " {'Summary': 'Scientists using an instrument aboard NASA’s Mars Atmosphere and Volatile EvolutioN, or MAVEN, spacecraft have discovered that water vapor near the surface of the Red Planet is lofted higher into the atmosphere than anyone expected was possible. '},\n",
       " {'Summary': \"The symbols, mottos, and small objects added to the agency's newest Mars rover serve a variety of purposes, from functional to decorative.\"},\n",
       " {'Summary': \"This new portrait of the Red Planet's neighbors was taken during a time when there's more dust in the air on Mars.\"}]"
      ]
     },
     "execution_count": 72,
     "metadata": {},
     "output_type": "execute_result"
    }
   ],
   "source": [
    "# Scrape all summaries on the page\n",
    "mars_summary = []\n",
    "mars_summary = mars_soup.find_all('div', class_='article_teaser_body')\n",
    "\n",
    "mars_summary_list=[]\n",
    "for summary in mars_summary:\n",
    "    mars_summary_dict={}\n",
    "    mars_summary_dict[\"Summary\"]=summary.text\n",
    "    mars_summary_list.append(mars_summary_dict)  \n",
    "mars_summary_list"
   ]
  },
  {
   "cell_type": "code",
   "execution_count": 73,
   "id": "057a67df",
   "metadata": {},
   "outputs": [],
   "source": [
    "import pandas as pd"
   ]
  },
  {
   "cell_type": "code",
   "execution_count": 74,
   "id": "cd6f18c1",
   "metadata": {},
   "outputs": [
    {
     "data": {
      "text/plain": [
       "[{'Title': \"Follow NASA's Perseverance Rover in Real Time on Its Way to Mars\",\n",
       "  'Summary': \"A crisply rendered web application can show you where the agency's Mars 2020 mission is right now as it makes its way to the Red Planet for a Feb. 18, 2021, landing.\"},\n",
       " {'Title': \"Follow NASA's Perseverance Rover in Real Time on Its Way to Mars\",\n",
       "  'Summary': \"A crisply rendered web application can show you where the agency's Mars 2020 mission is right now as it makes its way to the Red Planet for a Feb. 18, 2021, landing.\"},\n",
       " {'Title': \"Follow NASA's Perseverance Rover in Real Time on Its Way to Mars\",\n",
       "  'Summary': \"A crisply rendered web application can show you where the agency's Mars 2020 mission is right now as it makes its way to the Red Planet for a Feb. 18, 2021, landing.\"},\n",
       " {'Title': \"Follow NASA's Perseverance Rover in Real Time on Its Way to Mars\",\n",
       "  'Summary': \"A crisply rendered web application can show you where the agency's Mars 2020 mission is right now as it makes its way to the Red Planet for a Feb. 18, 2021, landing.\"},\n",
       " {'Title': \"Follow NASA's Perseverance Rover in Real Time on Its Way to Mars\",\n",
       "  'Summary': \"A crisply rendered web application can show you where the agency's Mars 2020 mission is right now as it makes its way to the Red Planet for a Feb. 18, 2021, landing.\"},\n",
       " {'Title': \"Follow NASA's Perseverance Rover in Real Time on Its Way to Mars\",\n",
       "  'Summary': \"A crisply rendered web application can show you where the agency's Mars 2020 mission is right now as it makes its way to the Red Planet for a Feb. 18, 2021, landing.\"},\n",
       " {'Title': \"Follow NASA's Perseverance Rover in Real Time on Its Way to Mars\",\n",
       "  'Summary': \"A crisply rendered web application can show you where the agency's Mars 2020 mission is right now as it makes its way to the Red Planet for a Feb. 18, 2021, landing.\"},\n",
       " {'Title': \"Follow NASA's Perseverance Rover in Real Time on Its Way to Mars\",\n",
       "  'Summary': \"A crisply rendered web application can show you where the agency's Mars 2020 mission is right now as it makes its way to the Red Planet for a Feb. 18, 2021, landing.\"},\n",
       " {'Title': \"Follow NASA's Perseverance Rover in Real Time on Its Way to Mars\",\n",
       "  'Summary': \"A crisply rendered web application can show you where the agency's Mars 2020 mission is right now as it makes its way to the Red Planet for a Feb. 18, 2021, landing.\"},\n",
       " {'Title': \"Follow NASA's Perseverance Rover in Real Time on Its Way to Mars\",\n",
       "  'Summary': \"A crisply rendered web application can show you where the agency's Mars 2020 mission is right now as it makes its way to the Red Planet for a Feb. 18, 2021, landing.\"},\n",
       " {'Title': \"Follow NASA's Perseverance Rover in Real Time on Its Way to Mars\",\n",
       "  'Summary': \"A crisply rendered web application can show you where the agency's Mars 2020 mission is right now as it makes its way to the Red Planet for a Feb. 18, 2021, landing.\"},\n",
       " {'Title': \"Follow NASA's Perseverance Rover in Real Time on Its Way to Mars\",\n",
       "  'Summary': \"A crisply rendered web application can show you where the agency's Mars 2020 mission is right now as it makes its way to the Red Planet for a Feb. 18, 2021, landing.\"},\n",
       " {'Title': \"Follow NASA's Perseverance Rover in Real Time on Its Way to Mars\",\n",
       "  'Summary': \"A crisply rendered web application can show you where the agency's Mars 2020 mission is right now as it makes its way to the Red Planet for a Feb. 18, 2021, landing.\"},\n",
       " {'Title': \"Follow NASA's Perseverance Rover in Real Time on Its Way to Mars\",\n",
       "  'Summary': \"A crisply rendered web application can show you where the agency's Mars 2020 mission is right now as it makes its way to the Red Planet for a Feb. 18, 2021, landing.\"},\n",
       " {'Title': \"Follow NASA's Perseverance Rover in Real Time on Its Way to Mars\",\n",
       "  'Summary': \"A crisply rendered web application can show you where the agency's Mars 2020 mission is right now as it makes its way to the Red Planet for a Feb. 18, 2021, landing.\"}]"
      ]
     },
     "execution_count": 74,
     "metadata": {},
     "output_type": "execute_result"
    }
   ],
   "source": [
    "# Title_Summary combined on the page\n",
    "mars_summary = mars_soup.find_all('div', class_='list_text')\n",
    "\n",
    "mars_summary_list=[]\n",
    "for summary in mars_summary:\n",
    "    mars_summary_dict={}\n",
    "    \n",
    "    mars_title = mars_soup.find('div', class_='content_title').text\n",
    "    mars_summary = mars_soup.find('div', class_='article_teaser_body').text\n",
    "    \n",
    "    mars_summary_dict[\"Title\"]=mars_title\n",
    "    mars_summary_dict[\"Summary\"]=mars_summary \n",
    "    \n",
    "    mars_summary_list.append(mars_summary_dict)\n",
    "    \n",
    "    \n",
    "mars_summary_list"
   ]
  },
  {
   "cell_type": "code",
   "execution_count": null,
   "id": "a04cb638",
   "metadata": {},
   "outputs": [],
   "source": []
  },
  {
   "cell_type": "code",
   "execution_count": null,
   "id": "dd601fda",
   "metadata": {},
   "outputs": [],
   "source": []
  },
  {
   "cell_type": "code",
   "execution_count": null,
   "id": "a3e85868",
   "metadata": {},
   "outputs": [],
   "source": []
  }
 ],
 "metadata": {
  "kernelspec": {
   "display_name": "Python 3 (ipykernel)",
   "language": "python",
   "name": "python3"
  },
  "language_info": {
   "codemirror_mode": {
    "name": "ipython",
    "version": 3
   },
   "file_extension": ".py",
   "mimetype": "text/x-python",
   "name": "python",
   "nbconvert_exporter": "python",
   "pygments_lexer": "ipython3",
   "version": "3.9.12"
  }
 },
 "nbformat": 4,
 "nbformat_minor": 5
}
